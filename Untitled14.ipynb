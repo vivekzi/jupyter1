{
 "cells": [
  {
   "cell_type": "code",
   "execution_count": 2,
   "metadata": {},
   "outputs": [],
   "source": [
    "import pandas as pd"
   ]
  },
  {
   "cell_type": "code",
   "execution_count": 43,
   "metadata": {},
   "outputs": [],
   "source": [
    "pd.read_csv('a.csv')"
   ]
  },
  {
   "cell_type": "code",
   "execution_count": 50,
   "metadata": {},
   "outputs": [
    {
     "name": "stdout",
     "output_type": "stream",
     "text": [
      "36160    Gregory Suhr\n",
      "Name: EmployeeName, dtype: object\n"
     ]
    },
    {
     "data": {
      "text/plain": [
       "302578.0"
      ]
     },
     "execution_count": 50,
     "metadata": {},
     "output_type": "execute_result"
    }
   ],
   "source": [
    "print ab[ab['BasePay']==ab['BasePay'].max()]['EmployeeName']\n",
    "ab['BasePay'].max()"
   ]
  },
  {
   "cell_type": "code",
   "execution_count": 32,
   "metadata": {},
   "outputs": [],
   "source": [
    "bc=ab['GroupOwner']"
   ]
  },
  {
   "cell_type": "code",
   "execution_count": 38,
   "metadata": {},
   "outputs": [
    {
     "name": "stdout",
     "output_type": "stream",
     "text": [
      "0     13456.0\n",
      "1         NaN\n",
      "2     13458.0\n",
      "3     13559.0\n",
      "4         NaN\n",
      "5     13561.0\n",
      "6     13562.0\n",
      "7         NaN\n",
      "8     13660.0\n",
      "9     13661.0\n",
      "10        NaN\n",
      "11    13452.0\n",
      "12        NaN\n",
      "13    18001.0\n",
      "14    18002.0\n",
      "Name: GroupOwner, dtype: float64\n"
     ]
    }
   ],
   "source": [
    "bc=ab['GroupOwner']\n",
    "print bc"
   ]
  },
  {
   "cell_type": "code",
   "execution_count": null,
   "metadata": {},
   "outputs": [],
   "source": []
  },
  {
   "cell_type": "code",
   "execution_count": null,
   "metadata": {},
   "outputs": [],
   "source": []
  }
 ],
 "metadata": {
  "kernelspec": {
   "display_name": "Python 2",
   "language": "python",
   "name": "python2"
  },
  "language_info": {
   "codemirror_mode": {
    "name": "ipython",
    "version": 2
   },
   "file_extension": ".py",
   "mimetype": "text/x-python",
   "name": "python",
   "nbconvert_exporter": "python",
   "pygments_lexer": "ipython2",
   "version": "2.7.14"
  }
 },
 "nbformat": 4,
 "nbformat_minor": 2
}
